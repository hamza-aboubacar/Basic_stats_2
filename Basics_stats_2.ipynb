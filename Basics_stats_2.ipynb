{
  "nbformat": 4,
  "nbformat_minor": 0,
  "metadata": {
    "colab": {
      "provenance": []
    },
    "kernelspec": {
      "name": "python3",
      "display_name": "Python 3"
    },
    "language_info": {
      "name": "python"
    }
  },
  "cells": [
    {
      "cell_type": "code",
      "execution_count": null,
      "metadata": {
        "id": "OiUNt1APxbhn"
      },
      "outputs": [],
      "source": []
    },
    {
      "cell_type": "markdown",
      "source": [
        "Let’s go through the solution step-by-step for each part:\n",
        "\n",
        "Given data:\n",
        "\n",
        "Durability (in millions of characters):\n",
        "1.13\n",
        ",\n",
        "1.55\n",
        ",\n",
        "1.43\n",
        ",\n",
        "0.92\n",
        ",\n",
        "1.25\n",
        ",\n",
        "1.36\n",
        ",\n",
        "1.32\n",
        ",\n",
        "0.85\n",
        ",\n",
        "1.07\n",
        ",\n",
        "1.48\n",
        ",\n",
        "1.20\n",
        ",\n",
        "1.33\n",
        ",\n",
        "1.18\n",
        ",\n",
        "1.22\n",
        ",\n",
        "1.29\n",
        "\n",
        "Sample size (\n",
        "𝑛\n",
        "n) = 15\n",
        "Confidence level = 99%\n",
        "\n",
        "Part (a): Constructing a 99% Confidence Interval Using the Sample Standard Deviation\n",
        "\n",
        "Step 1: Calculate the Sample Mean and Sample Standard Deviation\n",
        "Calculate the sample mean (\n",
        "𝑥\n",
        "ˉ\n",
        "x\n",
        "ˉ\n",
        " ):\n",
        "𝑥\n",
        "ˉ\n",
        "=\n",
        "∑\n",
        "𝑥\n",
        "𝑖\n",
        "𝑛\n",
        "x\n",
        "ˉ\n",
        " =\n",
        "n\n",
        "∑x\n",
        "i\n",
        "​\n",
        "\n",
        "​\n",
        "\n",
        "Calculate the sample standard deviation (\n",
        "𝑠\n",
        "s):\n",
        "𝑠\n",
        "=\n",
        "∑\n",
        "(\n",
        "𝑥\n",
        "𝑖\n",
        "−\n",
        "𝑥\n",
        "ˉ\n",
        ")\n",
        "2\n",
        "𝑛\n",
        "−\n",
        "1\n",
        "s=\n",
        "n−1\n",
        "∑(x\n",
        "i\n",
        "​\n",
        " −\n",
        "x\n",
        "ˉ\n",
        " )\n",
        "2\n",
        "\n",
        "​\n",
        "\n",
        "​\n",
        "\n",
        "Step 2: Determine the Appropriate Distribution and t-Critical Value\n",
        "Since the population standard deviation is unknown and the sample size is small (\n",
        "𝑛\n",
        "<\n",
        "30\n",
        "n<30), we use the t-distribution.\n",
        "For a 99% confidence level and\n",
        "𝑛\n",
        "−\n",
        "1\n",
        "=\n",
        "14\n",
        "n−1=14 degrees of freedom, find the t-critical value (\n",
        "𝑡\n",
        "0.005\n",
        ",\n",
        "14\n",
        "t\n",
        "0.005,14\n",
        "​\n",
        " ).\n",
        "Step 3: Construct the Confidence Interval\n",
        "The formula for a confidence interval using the t-distribution is:\n",
        "\n",
        "𝑥\n",
        "ˉ\n",
        "±\n",
        "𝑡\n",
        "×\n",
        "𝑠\n",
        "𝑛\n",
        "x\n",
        "ˉ\n",
        " ±t×\n",
        "n\n",
        "​\n",
        "\n",
        "s\n",
        "​\n",
        "\n",
        "Let's calculate these values in Python."
      ],
      "metadata": {
        "id": "XF3fGuInxyTp"
      }
    },
    {
      "cell_type": "code",
      "source": [
        "from scipy import stats\n",
        "import statistics\n",
        "data=[1.13, 1.55, 1.43, 0.92, 1.25, 1.36, 1.32, 0.85, 1.07, 1.48, 1.20, 1.33, 1.18, 1.22, 1.29]"
      ],
      "metadata": {
        "id": "JYmYyy0oyneX"
      },
      "execution_count": 11,
      "outputs": []
    },
    {
      "cell_type": "code",
      "source": [
        "t=stats.t.ppf(0.995,14)"
      ],
      "metadata": {
        "id": "iS-8zIqF3hRM"
      },
      "execution_count": 12,
      "outputs": []
    },
    {
      "cell_type": "code",
      "source": [
        "mean=statistics.mean(data)"
      ],
      "metadata": {
        "id": "GvzZMR6x3ut-"
      },
      "execution_count": 13,
      "outputs": []
    },
    {
      "cell_type": "code",
      "source": [
        "stdv=statistics.stdev(data)\n"
      ],
      "metadata": {
        "id": "szTxOS-EA_e5"
      },
      "execution_count": 14,
      "outputs": []
    },
    {
      "cell_type": "code",
      "source": [
        "import math\n",
        "confidence_interval=(mean-t*stdv/math.sqrt(15),mean+t*stdv/math.sqrt(15))"
      ],
      "metadata": {
        "id": "_0U_nmLaBB7E"
      },
      "execution_count": 20,
      "outputs": []
    },
    {
      "cell_type": "code",
      "source": [
        "confidence_interval"
      ],
      "metadata": {
        "colab": {
          "base_uri": "https://localhost:8080/"
        },
        "id": "eMowr2ysBtgO",
        "outputId": "316e7ae0-7fe0-4929-9474-4d56b2372a32"
      },
      "execution_count": 16,
      "outputs": [
        {
          "output_type": "execute_result",
          "data": {
            "text/plain": [
              "(1.2003320509566446, 1.2770012823766885)"
            ]
          },
          "metadata": {},
          "execution_count": 16
        }
      ]
    },
    {
      "cell_type": "markdown",
      "source": [
        "Rationale for Using the t-Distribution:\n",
        "The t-distribution is used because the sample size is small (\n",
        "𝑛\n",
        "=\n",
        "15\n",
        "n=15) and the population standard deviation is unknown. The t-distribution accounts for extra variability in smaller samples, providing a more accurate confidence interval than the normal distribution would in this case."
      ],
      "metadata": {
        "id": "Ow-9BlDJEE_k"
      }
    },
    {
      "cell_type": "code",
      "source": [],
      "metadata": {
        "id": "-2BF0gnHCuM7"
      },
      "execution_count": 20,
      "outputs": []
    },
    {
      "cell_type": "markdown",
      "source": [
        "Part (b): Constructing a 99% Confidence Interval Using the Known Population Standard Deviation\n",
        "Given:\n",
        "\n",
        "Population Standard Deviation (\n",
        "𝜎\n",
        "σ) = 0.2 million characters\n",
        "\n",
        "Construct the confidence interval using:\n",
        "𝑥\n",
        "ˉ\n",
        "±\n",
        "𝑧\n",
        "×\n",
        "𝜎/\n",
        "𝑛\n"
      ],
      "metadata": {
        "id": "DBtbxcE5Em6a"
      }
    },
    {
      "cell_type": "code",
      "source": [
        "p_stdv=0.2\n",
        "z=stats.norm.ppf(0.995)\n",
        "confidence_interval_2=(mean-z*p_stdv/math.sqrt(15),mean+z*p_stdv/math.sqrt(15))"
      ],
      "metadata": {
        "id": "D4XOK3JqFAX2"
      },
      "execution_count": 21,
      "outputs": []
    },
    {
      "cell_type": "code",
      "source": [
        "confidence_interval_2"
      ],
      "metadata": {
        "colab": {
          "base_uri": "https://localhost:8080/"
        },
        "id": "BLi8B9FjFQeZ",
        "outputId": "5ba1c479-12cb-4bab-aace-4876d2aeba3a"
      },
      "execution_count": 22,
      "outputs": [
        {
          "output_type": "execute_result",
          "data": {
            "text/plain": [
              "(1.1056514133957607, 1.3716819199375725)"
            ]
          },
          "metadata": {},
          "execution_count": 22
        }
      ]
    },
    {
      "cell_type": "code",
      "source": [],
      "metadata": {
        "id": "G-ttB_1_FTqo"
      },
      "execution_count": null,
      "outputs": []
    }
  ]
}